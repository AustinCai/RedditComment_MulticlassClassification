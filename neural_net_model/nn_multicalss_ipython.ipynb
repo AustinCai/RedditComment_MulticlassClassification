{
 "cells": [
  {
   "cell_type": "code",
   "execution_count": 122,
   "metadata": {},
   "outputs": [],
   "source": [
    "import pickle\n",
    "import re\n",
    "import os\n",
    "import numpy as np\n",
    "from numpy import array\n",
    "from sklearn.model_selection import train_test_split\n",
    "from keras.models import Sequential\n",
    "from keras import layers\n",
    "import keras\n",
    "import matplotlib.pyplot as plt\n",
    "import helper\n",
    "import tensorflow as tf\n",
    "from keras import regularizers\n",
    "from tensorflow import keras\n",
    "from keras.optimizers import adam\n",
    "import pandas as pd\n",
    "\n",
    "import constants\n",
    "import word_embeddings"
   ]
  },
  {
   "cell_type": "code",
   "execution_count": 193,
   "metadata": {},
   "outputs": [
    {
     "name": "stdout",
     "output_type": "stream",
     "text": [
      "[[ 6.49300000e-02  2.68593730e+00 -1.88615280e+00 ...  1.45925147e-30\n",
      "   2.13757315e-26  2.56517078e-29]\n",
      " [ 2.41418200e+00  1.74597610e+00 -6.95424630e+00 ...  7.46531247e-56\n",
      "   1.55572819e-47  1.42419334e-51]\n",
      " [-1.38486200e+00  2.07225960e+00 -1.13787800e+00 ...  3.42399657e-53\n",
      "   2.95269368e-49  2.90869031e-51]\n",
      " ...\n",
      " [-1.02030000e-02  6.49805000e-01 -1.25386000e+00 ...  6.18782170e-47\n",
      "   5.88180606e-41  5.93490367e-45]\n",
      " [-2.36761343e+00  3.05657972e+00 -6.32553370e+00 ...  1.31816808e-85\n",
      "   1.41606376e-76  6.57419811e-64]\n",
      " [-1.90992000e+00  1.16124686e+00 -2.00774190e+00 ...  1.56161996e-46\n",
      "   4.18658439e-42  1.93794969e-42]]\n",
      "[ 0  0  0 ... 19 19 19]\n",
      "100000\n",
      "100000\n"
     ]
    }
   ],
   "source": [
    "X = helper.undump(\"../data/X_mid+20.pkl\")\n",
    "y = helper.undump(\"../data/y_mid+20.pkl\")\n",
    "\n",
    "\n",
    "print(X)\n",
    "print(y)\n",
    "print(len(X))\n",
    "print(len(y))"
   ]
  },
  {
   "cell_type": "code",
   "execution_count": 194,
   "metadata": {},
   "outputs": [
    {
     "name": "stdout",
     "output_type": "stream",
     "text": [
      "(90000, 320)\n",
      "(5000, 320)\n",
      "(5000, 320)\n"
     ]
    }
   ],
   "source": [
    "# X_train, X_test, y_train, y_test = train_test_split(X, y, test_size=0.1, random_state=1000)\n",
    "\n",
    "def train_test_val_split(X, y, test_val_size, random_state):\n",
    "    X_train, X_test, y_train, y_test = train_test_split(X, y, test_size=test_val_size, \n",
    "                                                        random_state=random_state)\n",
    "    X_test, X_val, y_test, y_val = train_test_split(X_test, y_test, test_size=0.5, random_state=random_state)\n",
    "    return [X_train, X_val, X_test, y_train, y_val, y_test]\n",
    "\n",
    "X_train, X_val, X_test, y_train, y_val, y_test = train_test_val_split(X, y, 0.1, 1000)\n",
    "\n",
    "print(X_train.shape)\n",
    "print(X_test.shape)\n",
    "print(X_val.shape)\n",
    "input_dim = X_train.shape[1] # number of features"
   ]
  },
  {
   "cell_type": "code",
   "execution_count": 385,
   "metadata": {},
   "outputs": [],
   "source": [
    "epochs = 8\n",
    "def accuracy(y_predict, y_t):\n",
    "        count = 0\n",
    "        total = len(y_predict)\n",
    "        for i in range(total):\n",
    "            if (y_predict[i] == y_t[i]):\n",
    "                count += 1\n",
    "        acc = 100 *float(count) / total\n",
    "        print(\"Final Test accuracy is: {}%\".format(acc))\n",
    "        return acc\n",
    "\n",
    "def print_acc(model, history):\n",
    "    hist = pd.DataFrame(history.history)\n",
    "    train_acc_vec = hist.pop(\"acc\")\n",
    "    val_acc_vec = hist.pop(\"val_acc\")\n",
    "    finalTrainAcc = train_acc_vec[len(train_acc_vec) - 1]\n",
    "    finalValAcc = val_acc_vec[len(val_acc_vec) - 1]\n",
    "    print(\"Final training accuracy: {}%\".format(finalTrainAcc*100))\n",
    "    print(\"Final validation accuracy: {}%\".format(finalValAcc*100))\n",
    "    \n",
    "# Plot metrics\n",
    "def plot_history(history, xlimit=epochs):\n",
    "    hist = pd.DataFrame(history.history)\n",
    "    hist['epoch'] = history.epoch\n",
    "\n",
    "    plt.figure()\n",
    "    plt.xlabel('Epoch')\n",
    "    plt.ylabel('Cross Entropy Error')\n",
    "    plt.plot(hist['epoch'], hist['loss'],\n",
    "           label='Train Error')\n",
    "    plt.plot(hist['epoch'], hist['val_loss'],\n",
    "           label = 'Val Error')\n",
    "    plt.xlim([0,xlimit])\n",
    "    plt.ylim([1,4])\n",
    "    plt.legend()\n",
    "    plt.show()"
   ]
  },
  {
   "cell_type": "code",
   "execution_count": 386,
   "metadata": {},
   "outputs": [],
   "source": [
    "# Model Definitions\n",
    "\n",
    "# Original model by austin\n",
    "def build_model_A():\n",
    "    model = Sequential()\n",
    "    \n",
    "    #Input Layer\n",
    "    model.add(layers.Dense(20, input_dim=input_dim, activation='relu', use_bias=True))\n",
    "    \n",
    "    #Hidden Layers\n",
    "    #None\n",
    "    \n",
    "    #Output Layer\n",
    "    model.add(layers.Dense(20, activation='softmax'))\n",
    "    model.compile(loss='sparse_categorical_crossentropy', optimizer='adam', metrics=['acc'])\n",
    "    return model\n",
    "\n",
    "# Modified models\n",
    "def build_model_B(learning_rate, dropout, reg, num_neurons, num_layers):\n",
    "    model = Sequential()\n",
    "    \n",
    "    \n",
    "    #Input Layer\n",
    "    model.add(layers.Dense(200, input_dim=input_dim, activation='relu', \n",
    "                           use_bias=True, activity_regularizer=regularizers.l2(reg)))\n",
    "    \n",
    "    #Hidden Layers\n",
    "    model.add(layers.Dense(200, activation='relu', use_bias=True, activity_regularizer=regularizers.l2(reg)))\n",
    "    model.add(layers.Dropout(dropout))\n",
    "    model.add(layers.Dense(150, activation='relu', use_bias=True, activity_regularizer=regularizers.l2(reg)))\n",
    "    model.add(layers.Dense(130, activation='relu', use_bias=True, activity_regularizer=regularizers.l2(reg)))\n",
    "    model.add(layers.Dense(90, activation='relu', use_bias=True, activity_regularizer=regularizers.l2(reg)))\n",
    "    \n",
    "    #Output Layer\n",
    "    model.add(layers.Dense(20, activation='softmax'))\n",
    "    \n",
    "    # Optimizer. Can change this to whatever we want\n",
    "    opt = adam(lr=learning_rate)\n",
    "    model.compile(loss='sparse_categorical_crossentropy', optimizer=opt, metrics=['acc'])\n",
    "    return model"
   ]
  },
  {
   "cell_type": "code",
   "execution_count": 223,
   "metadata": {},
   "outputs": [
    {
     "name": "stdout",
     "output_type": "stream",
     "text": [
      "_________________________________________________________________\n",
      "Layer (type)                 Output Shape              Param #   \n",
      "=================================================================\n",
      "dense_75 (Dense)             (None, 20)                6420      \n",
      "_________________________________________________________________\n",
      "dense_76 (Dense)             (None, 20)                420       \n",
      "=================================================================\n",
      "Total params: 6,840\n",
      "Trainable params: 6,840\n",
      "Non-trainable params: 0\n",
      "_________________________________________________________________\n"
     ]
    }
   ],
   "source": [
    "# Build Models and Summary\n",
    "model_A = build_model_A()\n",
    "model_A.summary()\n"
   ]
  },
  {
   "cell_type": "code",
   "execution_count": 224,
   "metadata": {},
   "outputs": [
    {
     "name": "stdout",
     "output_type": "stream",
     "text": [
      "Train on 90000 samples, validate on 5000 samples\n",
      "Epoch 1/40\n",
      "90000/90000 [==============================] - 5s 59us/step - loss: 2.8558 - acc: 0.1042 - val_loss: 2.5654 - val_acc: 0.1718\n",
      "Epoch 2/40\n",
      "90000/90000 [==============================] - 4s 50us/step - loss: 2.4285 - acc: 0.2258 - val_loss: 2.3371 - val_acc: 0.2772\n",
      "Epoch 3/40\n",
      "90000/90000 [==============================] - 4s 49us/step - loss: 2.3133 - acc: 0.2736 - val_loss: 2.2584 - val_acc: 0.2956\n",
      "Epoch 4/40\n",
      "90000/90000 [==============================] - 4s 49us/step - loss: 2.2520 - acc: 0.2999 - val_loss: 2.3570 - val_acc: 0.2704\n",
      "Epoch 5/40\n",
      "90000/90000 [==============================] - 4s 49us/step - loss: 2.2248 - acc: 0.3110 - val_loss: 2.2244 - val_acc: 0.3074\n",
      "Epoch 6/40\n",
      "90000/90000 [==============================] - 4s 50us/step - loss: 2.2071 - acc: 0.3161 - val_loss: 2.1850 - val_acc: 0.3260\n",
      "Epoch 7/40\n",
      "90000/90000 [==============================] - 4s 49us/step - loss: 2.1818 - acc: 0.3238 - val_loss: 2.1588 - val_acc: 0.3380\n",
      "Epoch 8/40\n",
      "90000/90000 [==============================] - 4s 48us/step - loss: 2.1548 - acc: 0.3324 - val_loss: 2.1786 - val_acc: 0.3396\n",
      "Epoch 9/40\n",
      "90000/90000 [==============================] - 4s 49us/step - loss: 2.1278 - acc: 0.3448 - val_loss: 2.1286 - val_acc: 0.3538\n",
      "Epoch 10/40\n",
      "90000/90000 [==============================] - 4s 49us/step - loss: 2.1115 - acc: 0.3507 - val_loss: 2.1099 - val_acc: 0.3606\n",
      "Epoch 11/40\n",
      "90000/90000 [==============================] - 4s 49us/step - loss: 2.0982 - acc: 0.3545 - val_loss: 2.0807 - val_acc: 0.3720\n",
      "Epoch 12/40\n",
      "90000/90000 [==============================] - 4s 49us/step - loss: 2.0895 - acc: 0.3583 - val_loss: 2.1031 - val_acc: 0.3630\n",
      "Epoch 13/40\n",
      "90000/90000 [==============================] - 4s 50us/step - loss: 2.0743 - acc: 0.3623 - val_loss: 2.0765 - val_acc: 0.3680\n",
      "Epoch 14/40\n",
      "90000/90000 [==============================] - 4s 50us/step - loss: 2.0661 - acc: 0.3670 - val_loss: 2.0830 - val_acc: 0.3686\n",
      "Epoch 15/40\n",
      "90000/90000 [==============================] - 4s 49us/step - loss: 2.0571 - acc: 0.3703 - val_loss: 2.0998 - val_acc: 0.3670\n",
      "Epoch 16/40\n",
      "90000/90000 [==============================] - 4s 49us/step - loss: 2.0479 - acc: 0.3738 - val_loss: 2.1178 - val_acc: 0.3660\n",
      "Epoch 17/40\n",
      "90000/90000 [==============================] - 4s 49us/step - loss: 2.0437 - acc: 0.3760 - val_loss: 2.0882 - val_acc: 0.3684\n",
      "Epoch 18/40\n",
      "90000/90000 [==============================] - 5s 58us/step - loss: 2.0368 - acc: 0.3810 - val_loss: 2.0604 - val_acc: 0.3826\n",
      "Epoch 19/40\n",
      "90000/90000 [==============================] - 5s 55us/step - loss: 2.0328 - acc: 0.3802 - val_loss: 2.0876 - val_acc: 0.3650\n",
      "Epoch 20/40\n",
      "90000/90000 [==============================] - 5s 53us/step - loss: 2.0291 - acc: 0.3812 - val_loss: 2.0674 - val_acc: 0.3790\n",
      "Epoch 21/40\n",
      "90000/90000 [==============================] - 5s 53us/step - loss: 2.0245 - acc: 0.3841 - val_loss: 2.0455 - val_acc: 0.3832\n",
      "Epoch 22/40\n",
      "90000/90000 [==============================] - 4s 50us/step - loss: 2.0249 - acc: 0.3846 - val_loss: 2.0599 - val_acc: 0.3826 \n",
      "Epoch 23/40\n",
      "90000/90000 [==============================] - 4s 48us/step - loss: 2.0221 - acc: 0.3846 - val_loss: 2.0702 - val_acc: 0.3752\n",
      "Epoch 24/40\n",
      "90000/90000 [==============================] - 4s 48us/step - loss: 2.0183 - acc: 0.3865 - val_loss: 2.0804 - val_acc: 0.3670\n",
      "Epoch 25/40\n",
      "90000/90000 [==============================] - 4s 49us/step - loss: 2.0165 - acc: 0.3858 - val_loss: 2.0616 - val_acc: 0.3766loss: 2.001 - ETA: 2s - loss: 2.0057 - acc: 0.38 - ETA: 2s - loss: 2.0058 \n",
      "Epoch 26/40\n",
      "90000/90000 [==============================] - 4s 48us/step - loss: 2.0150 - acc: 0.3879 - val_loss: 2.0538 - val_acc: 0.3858\n",
      "Epoch 27/40\n",
      "90000/90000 [==============================] - 4s 49us/step - loss: 2.0151 - acc: 0.3880 - val_loss: 2.0855 - val_acc: 0.3742\n",
      "Epoch 28/40\n",
      "90000/90000 [==============================] - 4s 49us/step - loss: 2.0129 - acc: 0.3876 - val_loss: 2.0538 - val_acc: 0.384026 - acc: 0.387\n",
      "Epoch 29/40\n",
      "90000/90000 [==============================] - 4s 49us/step - loss: 2.0103 - acc: 0.3881 - val_loss: 2.0552 - val_acc: 0.3806ETA: 2s - loss: 2.0088 - acc - ETA: 1s - loss: 2.0128 - a - ETA: 1s - loss: 2.0150 - acc: 0.3 - ETA: 0s - loss: 2.0145 - acc - ETA: 0s - loss: 2.0131 - acc: 0. - ETA: 0s - loss: 2.0110 - acc:\n",
      "Epoch 30/40\n",
      "90000/90000 [==============================] - 4s 49us/step - loss: 2.0118 - acc: 0.3895 - val_loss: 2.0534 - val_acc: 0.3808 loss: 2.0139 \n",
      "Epoch 31/40\n",
      "90000/90000 [==============================] - 4s 48us/step - loss: 2.0098 - acc: 0.3878 - val_loss: 2.0629 - val_acc: 0.3740\n",
      "Epoch 32/40\n",
      "90000/90000 [==============================] - 4s 49us/step - loss: 2.0072 - acc: 0.3905 - val_loss: 2.0648 - val_acc: 0.384809 - ETA: 2s - loss: 2.006 - ETA: 1s - loss: 2.0118 - acc: 0.388 - ETA: 1s - loss: 2.0119 - acc: 0.38 - ETA: 1s - loss: 2.0119 - acc:  - ETA: 1s - loss: 2.0085 - - ETA: 0s - loss: 2.0060 - ac\n",
      "Epoch 33/40\n",
      "90000/90000 [==============================] - 4s 49us/step - loss: 2.0081 - acc: 0.3885 - val_loss: 2.0647 - val_acc: 0.3860oss: 2.0018 - acc: 0 - ETA:  - ETA: 1s - loss: 2 - ETA: 0s - loss: 2.0067 - ac\n",
      "Epoch 34/40\n",
      "90000/90000 [==============================] - 4s 47us/step - loss: 2.0067 - acc: 0.3909 - val_loss: 2.0685 - val_acc: 0.3754.0092 - ac - ETA: 0s - loss: 2.0059 - acc: \n",
      "Epoch 35/40\n",
      "90000/90000 [==============================] - 4s 47us/step - loss: 2.0058 - acc: 0.3911 - val_loss: 2.0576 - val_acc: 0.3816\n",
      "Epoch 36/40\n",
      "90000/90000 [==============================] - 4s 47us/step - loss: 2.0051 - acc: 0.3899 - val_loss: 2.0711 - val_acc: 0.3870\n",
      "Epoch 37/40\n",
      "90000/90000 [==============================] - 4s 47us/step - loss: 2.0025 - acc: 0.3908 - val_loss: 2.0549 - val_acc: 0.3844acc: 0. - ETA: 0s - loss: 2.0003 - acc: 0.39 - ETA: 0s - loss: 2.0010 - acc: \n",
      "Epoch 38/40\n",
      "90000/90000 [==============================] - 4s 47us/step - loss: 2.0039 - acc: 0.3915 - val_loss: 2.0636 - val_acc: 0.3838\n",
      "Epoch 39/40\n",
      "90000/90000 [==============================] - 4s 48us/step - loss: 2.0036 - acc: 0.3909 - val_loss: 2.0646 - val_acc: 0.3840\n",
      "Epoch 40/40\n",
      "90000/90000 [==============================] - 4s 47us/step - loss: 2.0022 - acc: 0.3915 - val_loss: 2.1077 - val_acc: 0.3728\n"
     ]
    }
   ],
   "source": [
    "model_A_history = model_A.fit(X_train, y_train, epochs=epochs, verbose=1,\n",
    "         validation_data=(X_val, y_val))"
   ]
  },
  {
   "cell_type": "code",
   "execution_count": 225,
   "metadata": {},
   "outputs": [
    {
     "data": {
      "image/png": "[encoded data removed]",
      "text/plain": [
       "<matplotlib.figure.Figure at 0x7fe49dc24630>"
      ]
     },
     "metadata": {
      "needs_background": "light"
     },
     "output_type": "display_data"
    }
   ],
   "source": [
    "plot_history(model_A_history)"
   ]
  },
  {
   "cell_type": "code",
   "execution_count": 226,
   "metadata": {},
   "outputs": [
    {
     "name": "stdout",
     "output_type": "stream",
     "text": [
      "Final Test accuracy is: 37.34%\n",
      "Final training accuracy: 39.14666666666667%\n",
      "Final validation accuracy: 37.28%\n"
     ]
    }
   ],
   "source": [
    "# accuracies\n",
    "X_test_copy = np.copy(X_test)\n",
    "y_predict_prob = model_A.predict(X_test_copy)\n",
    "y_predict = y_predict_prob.argmax(axis=-1)\n",
    "    \n",
    "    \n",
    "accuracy(y_predict, y_test)\n",
    "\n",
    "print_acc(model_A, model_A_history)"
   ]
  },
  {
   "cell_type": "code",
   "execution_count": 387,
   "metadata": {},
   "outputs": [
    {
     "name": "stdout",
     "output_type": "stream",
     "text": [
      "_________________________________________________________________\n",
      "Layer (type)                 Output Shape              Param #   \n",
      "=================================================================\n",
      "dense_290 (Dense)            (None, 200)               64200     \n",
      "_________________________________________________________________\n",
      "dense_291 (Dense)            (None, 200)               40200     \n",
      "_________________________________________________________________\n",
      "dropout_17 (Dropout)         (None, 200)               0         \n",
      "_________________________________________________________________\n",
      "dense_292 (Dense)            (None, 150)               30150     \n",
      "_________________________________________________________________\n",
      "dense_293 (Dense)            (None, 130)               19630     \n",
      "_________________________________________________________________\n",
      "dense_294 (Dense)            (None, 90)                11790     \n",
      "_________________________________________________________________\n",
      "dense_295 (Dense)            (None, 20)                1820      \n",
      "=================================================================\n",
      "Total params: 167,790\n",
      "Trainable params: 167,790\n",
      "Non-trainable params: 0\n",
      "_________________________________________________________________\n"
     ]
    }
   ],
   "source": [
    "learning_rate = 0.1\n",
    "dropout=0\n",
    "reg=0.0\n",
    "model_B = build_model_B(learning_rate=0.001, dropout=0, reg=0.00,num_neurons=5,num_layers=10)\n",
    "model_B.summary()"
   ]
  },
  {
   "cell_type": "code",
   "execution_count": 388,
   "metadata": {},
   "outputs": [
    {
     "name": "stdout",
     "output_type": "stream",
     "text": [
      "Train on 90000 samples, validate on 5000 samples\n",
      "Epoch 1/8\n",
      "90000/90000 [==============================] - 20s 221us/step - loss: 2.3252 - acc: 0.2825 - val_loss: 2.1018 - val_acc: 0.3610\n",
      "Epoch 2/8\n",
      "90000/90000 [==============================] - 16s 174us/step - loss: 2.0540 - acc: 0.3701 - val_loss: 2.0553 - val_acc: 0.3798\n",
      "Epoch 3/8\n",
      "90000/90000 [==============================] - 15s 165us/step - loss: 1.9860 - acc: 0.3937 - val_loss: 1.9835 - val_acc: 0.3838\n",
      "Epoch 4/8\n",
      "90000/90000 [==============================] - 15s 165us/step - loss: 1.9408 - acc: 0.4064 - val_loss: 2.0052 - val_acc: 0.3906\n",
      "Epoch 5/8\n",
      "90000/90000 [==============================] - 15s 172us/step - loss: 1.9116 - acc: 0.4148 - val_loss: 1.9904 - val_acc: 0.3962\n",
      "Epoch 6/8\n",
      "90000/90000 [==============================] - 16s 177us/step - loss: 1.8879 - acc: 0.4226 - val_loss: 1.9589 - val_acc: 0.4098\n",
      "Epoch 7/8\n",
      "90000/90000 [==============================] - 17s 185us/step - loss: 1.8667 - acc: 0.4306 - val_loss: 1.9444 - val_acc: 0.4066\n",
      "Epoch 8/8\n",
      "90000/90000 [==============================] - 15s 171us/step - loss: 1.8463 - acc: 0.4368 - val_loss: 1.9252 - val_acc: 0.4182\n",
      "CPU times: user 3min 42s, sys: 39.5 s, total: 4min 21s\n",
      "Wall time: 2min 9s\n"
     ]
    }
   ],
   "source": [
    "%%time\n",
    "model_B_history = model_B.fit(X_train, y_train, epochs=epochs, verbose=1,\n",
    "         validation_data=(X_val, y_val))"
   ]
  },
  {
   "cell_type": "code",
   "execution_count": 389,
   "metadata": {},
   "outputs": [
    {
     "data": {
      "image/png": "[encoded data removed]",
      "text/plain": [
       "<matplotlib.figure.Figure at 0x7fe46d926240>"
      ]
     },
     "metadata": {
      "needs_background": "light"
     },
     "output_type": "display_data"
    }
   ],
   "source": [
    "plot_history(model_B_history)"
   ]
  },
  {
   "cell_type": "code",
   "execution_count": 390,
   "metadata": {},
   "outputs": [
    {
     "name": "stdout",
     "output_type": "stream",
     "text": [
      "Final Test accuracy is: 41.08%\n",
      "Final training accuracy: 43.67666666666667%\n",
      "Final validation accuracy: 41.82%\n"
     ]
    }
   ],
   "source": [
    "X_test_copy = np.copy(X_test)\n",
    "y_predict_prob = model_B.predict(X_test_copy)\n",
    "\n",
    "y_predict = y_predict_prob.argmax(axis=-1)\n",
    "    \n",
    "    \n",
    "accuracy(y_predict, y_test)\n",
    "\n",
    "print_acc(model_B, model_B_history)"
   ]
  },
  {
   "cell_type": "code",
   "execution_count": 327,
   "metadata": {},
   "outputs": [],
   "source": [
    "def test_max_neurons(num_neurons, start_n):\n",
    "    max_neurons = 0\n",
    "    max_acc = 0\n",
    "    for i in range(start_n, num_neurons + 1):\n",
    "        model = build_model_B(learning_rate=learning_rate, reg=reg,dropout=dropout, num_neurons=i, num_layers=1)\n",
    "        model_history = model.fit(X_train, y_train, epochs=epochs, verbose=1,\n",
    "         validation_data=(X_val, y_val))\n",
    "        plot_history(model_history)\n",
    "        \n",
    "        X_test_copy = np.copy(X_test)\n",
    "        y_predict_prob = model.predict(X_test_copy)\n",
    "        y_predict = y_predict_prob.argmax(axis=-1)\n",
    "\n",
    "        \n",
    "        temp_acc = accuracy(y_predict, y_test)\n",
    "        if temp_acc > max_acc:\n",
    "            max_acc = temp_acc\n",
    "            max_neurons = i\n",
    "        print_acc(model, model_history)\n",
    "        print(\"Num Neurons: {} \\nCurrent Max Neurons= {}\\nCurrent Max Accuracy={}\".format(i, max_neurons, max_acc))\n",
    "        \n",
    "    print(\"max neurons: {}\\n max accuracy: {}\".format(max_neurons, max_acc))\n",
    "        "
   ]
  },
  {
   "cell_type": "code",
   "execution_count": 328,
   "metadata": {},
   "outputs": [],
   "source": [
    "num_neurons=9\n",
    "num_layers=1"
   ]
  },
  {
   "cell_type": "code",
   "execution_count": 329,
   "metadata": {},
   "outputs": [
    {
     "name": "stdout",
     "output_type": "stream",
     "text": [
      "Train on 90000 samples, validate on 5000 samples\n",
      "Epoch 1/15\n",
      "90000/90000 [==============================] - 11s 123us/step - loss: 3.0006 - acc: 0.0500 - val_loss: 2.9963 - val_acc: 0.0474\n",
      "Epoch 2/15\n",
      "90000/90000 [==============================] - 8s 89us/step - loss: 2.8085 - acc: 0.0997 - val_loss: 2.6017 - val_acc: 0.1444\n",
      "Epoch 3/15\n",
      "90000/90000 [==============================] - 8s 89us/step - loss: 2.4871 - acc: 0.1907 - val_loss: 2.4687 - val_acc: 0.2016\n",
      "Epoch 4/15\n",
      "90000/90000 [==============================] - 8s 90us/step - loss: 2.3811 - acc: 0.2335 - val_loss: 2.3582 - val_acc: 0.2452\n",
      "Epoch 5/15\n",
      "90000/90000 [==============================] - 8s 90us/step - loss: 2.3409 - acc: 0.2492 - val_loss: 2.3265 - val_acc: 0.2526\n",
      "Epoch 6/15\n",
      "90000/90000 [==============================] - 8s 89us/step - loss: 2.3140 - acc: 0.2595 - val_loss: 2.2987 - val_acc: 0.2674\n",
      "Epoch 7/15\n",
      "90000/90000 [==============================] - 8s 89us/step - loss: 2.2902 - acc: 0.2692 - val_loss: 2.2900 - val_acc: 0.2578\n",
      "Epoch 8/15\n",
      "90000/90000 [==============================] - 8s 91us/step - loss: 2.2741 - acc: 0.2765 - val_loss: 2.2749 - val_acc: 0.2734\n",
      "Epoch 9/15\n",
      "90000/90000 [==============================] - 8s 90us/step - loss: 2.2646 - acc: 0.2776 - val_loss: 2.3005 - val_acc: 0.2790\n",
      "Epoch 10/15\n",
      "90000/90000 [==============================] - 8s 90us/step - loss: 2.2562 - acc: 0.2800 - val_loss: 2.2518 - val_acc: 0.2824\n",
      "Epoch 11/15\n",
      "90000/90000 [==============================] - 8s 90us/step - loss: 2.2515 - acc: 0.2822 - val_loss: 2.2620 - val_acc: 0.2796\n",
      "Epoch 12/15\n",
      "90000/90000 [==============================] - 8s 90us/step - loss: 2.2438 - acc: 0.2848 - val_loss: 2.2584 - val_acc: 0.2740\n",
      "Epoch 13/15\n",
      "90000/90000 [==============================] - 8s 91us/step - loss: 2.2391 - acc: 0.2870 - val_loss: 2.2503 - val_acc: 0.2840\n",
      "Epoch 14/15\n",
      "90000/90000 [==============================] - 8s 90us/step - loss: 2.2357 - acc: 0.2867 - val_loss: 2.2934 - val_acc: 0.2876\n",
      "Epoch 15/15\n",
      "90000/90000 [==============================] - 8s 90us/step - loss: 2.2303 - acc: 0.2871 - val_loss: 2.2503 - val_acc: 0.2886\n"
     ]
    },
    {
     "data": {
      "image/png": "[encoded data removed]",
      "text/plain": [
       "<matplotlib.figure.Figure at 0x7fe473579320>"
      ]
     },
     "metadata": {
      "needs_background": "light"
     },
     "output_type": "display_data"
    },
    {
     "name": "stdout",
     "output_type": "stream",
     "text": [
      "Final Test accuracy is: 28.3%\n",
      "Final training accuracy: 28.71%\n",
      "Final validation accuracy: 28.860000000000003%\n",
      "Num Neurons: 5 \n",
      "Current Max Neurons= 5\n",
      "Current Max Accuracy=28.3\n",
      "Train on 90000 samples, validate on 5000 samples\n",
      "Epoch 1/15\n",
      "90000/90000 [==============================] - 11s 124us/step - loss: 2.6755 - acc: 0.1400 - val_loss: 2.4884 - val_acc: 0.1762\n",
      "Epoch 2/15\n",
      "90000/90000 [==============================] - 8s 90us/step - loss: 2.4027 - acc: 0.2266 - val_loss: 2.3422 - val_acc: 0.2506\n",
      "Epoch 3/15\n",
      "90000/90000 [==============================] - 8s 90us/step - loss: 2.3309 - acc: 0.2499 - val_loss: 2.3365 - val_acc: 0.2576\n",
      "Epoch 4/15\n",
      "90000/90000 [==============================] - 8s 90us/step - loss: 2.3035 - acc: 0.2616 - val_loss: 2.3090 - val_acc: 0.2774\n",
      "Epoch 5/15\n",
      "90000/90000 [==============================] - 8s 92us/step - loss: 2.2816 - acc: 0.2722 - val_loss: 2.2778 - val_acc: 0.2848\n",
      "Epoch 6/15\n",
      "90000/90000 [==============================] - 8s 91us/step - loss: 2.2584 - acc: 0.2849 - val_loss: 2.2772 - val_acc: 0.2898\n",
      "Epoch 7/15\n",
      "90000/90000 [==============================] - 8s 92us/step - loss: 2.2402 - acc: 0.2926 - val_loss: 2.2319 - val_acc: 0.3022\n",
      "Epoch 8/15\n",
      "90000/90000 [==============================] - 8s 91us/step - loss: 2.2283 - acc: 0.2982 - val_loss: 2.2096 - val_acc: 0.3060\n",
      "Epoch 9/15\n",
      "90000/90000 [==============================] - 8s 91us/step - loss: 2.2113 - acc: 0.3035 - val_loss: 2.2061 - val_acc: 0.3086\n",
      "Epoch 10/15\n",
      "90000/90000 [==============================] - 8s 91us/step - loss: 2.1980 - acc: 0.3087 - val_loss: 2.2065 - val_acc: 0.3162\n",
      "Epoch 11/15\n",
      "90000/90000 [==============================] - 8s 91us/step - loss: 2.1858 - acc: 0.3138 - val_loss: 2.2181 - val_acc: 0.3106\n",
      "Epoch 12/15\n",
      "90000/90000 [==============================] - 8s 91us/step - loss: 2.1736 - acc: 0.3183 - val_loss: 2.1890 - val_acc: 0.3196\n",
      "Epoch 13/15\n",
      "90000/90000 [==============================] - 8s 92us/step - loss: 2.1624 - acc: 0.3219 - val_loss: 2.2321 - val_acc: 0.3114\n",
      "Epoch 14/15\n",
      "90000/90000 [==============================] - 8s 91us/step - loss: 2.1555 - acc: 0.3263 - val_loss: 2.1592 - val_acc: 0.3310\n",
      "Epoch 15/15\n",
      "90000/90000 [==============================] - 8s 94us/step - loss: 2.1503 - acc: 0.3275 - val_loss: 2.1888 - val_acc: 0.3206\n"
     ]
    },
    {
     "data": {
      "image/png": "[encoded data removed]",
      "text/plain": [
       "<matplotlib.figure.Figure at 0x7fe472b64da0>"
      ]
     },
     "metadata": {
      "needs_background": "light"
     },
     "output_type": "display_data"
    },
    {
     "name": "stdout",
     "output_type": "stream",
     "text": [
      "Final Test accuracy is: 32.72%\n",
      "Final training accuracy: 32.748888888888885%\n",
      "Final validation accuracy: 32.06%\n",
      "Num Neurons: 6 \n",
      "Current Max Neurons= 6\n",
      "Current Max Accuracy=32.72\n",
      "Train on 90000 samples, validate on 5000 samples\n",
      "Epoch 1/15\n",
      "90000/90000 [==============================] - 11s 123us/step - loss: 2.8259 - acc: 0.1113 - val_loss: 2.5615 - val_acc: 0.1618\n",
      "Epoch 2/15\n",
      "90000/90000 [==============================] - 8s 89us/step - loss: 2.4443 - acc: 0.2162 - val_loss: 2.3563 - val_acc: 0.2486\n",
      "Epoch 3/15\n",
      "90000/90000 [==============================] - 8s 90us/step - loss: 2.3242 - acc: 0.2583 - val_loss: 2.3206 - val_acc: 0.2658\n",
      "Epoch 4/15\n",
      "90000/90000 [==============================] - 8s 90us/step - loss: 2.2772 - acc: 0.2735 - val_loss: 2.2445 - val_acc: 0.2852\n",
      "Epoch 5/15\n",
      "90000/90000 [==============================] - 8s 90us/step - loss: 2.2396 - acc: 0.2856 - val_loss: 2.2222 - val_acc: 0.2924\n",
      "Epoch 6/15\n",
      "90000/90000 [==============================] - 8s 90us/step - loss: 2.2143 - acc: 0.2981 - val_loss: 2.2028 - val_acc: 0.2996\n",
      "Epoch 7/15\n",
      "90000/90000 [==============================] - 8s 89us/step - loss: 2.1894 - acc: 0.3079 - val_loss: 2.2047 - val_acc: 0.3138\n",
      "Epoch 8/15\n",
      "90000/90000 [==============================] - 8s 90us/step - loss: 2.1723 - acc: 0.3170 - val_loss: 2.1534 - val_acc: 0.3330\n",
      "Epoch 9/15\n",
      "90000/90000 [==============================] - 8s 90us/step - loss: 2.1560 - acc: 0.3236 - val_loss: 2.1397 - val_acc: 0.3328\n",
      "Epoch 10/15\n",
      "90000/90000 [==============================] - 8s 90us/step - loss: 2.1463 - acc: 0.3269 - val_loss: 2.1508 - val_acc: 0.3212\n",
      "Epoch 11/15\n",
      "90000/90000 [==============================] - 8s 91us/step - loss: 2.1392 - acc: 0.3292 - val_loss: 2.1352 - val_acc: 0.3328\n",
      "Epoch 12/15\n",
      "90000/90000 [==============================] - 8s 90us/step - loss: 2.1312 - acc: 0.3314 - val_loss: 2.1325 - val_acc: 0.3372\n",
      "Epoch 13/15\n",
      "90000/90000 [==============================] - 8s 90us/step - loss: 2.1273 - acc: 0.3343 - val_loss: 2.1132 - val_acc: 0.3426\n",
      "Epoch 14/15\n",
      "90000/90000 [==============================] - 8s 89us/step - loss: 2.1199 - acc: 0.3372 - val_loss: 2.1375 - val_acc: 0.3340\n",
      "Epoch 15/15\n",
      "90000/90000 [==============================] - 8s 90us/step - loss: 2.1166 - acc: 0.3379 - val_loss: 2.1182 - val_acc: 0.3406\n"
     ]
    },
    {
     "data": {
      "image/png": "[encoded data removed]",
      "text/plain": [
       "<matplotlib.figure.Figure at 0x7fe472592cf8>"
      ]
     },
     "metadata": {
      "needs_background": "light"
     },
     "output_type": "display_data"
    },
    {
     "name": "stdout",
     "output_type": "stream",
     "text": [
      "Final Test accuracy is: 32.72%\n",
      "Final training accuracy: 33.794444444444444%\n",
      "Final validation accuracy: 34.06%\n",
      "Num Neurons: 7 \n",
      "Current Max Neurons= 6\n",
      "Current Max Accuracy=32.72\n",
      "Train on 90000 samples, validate on 5000 samples\n",
      "Epoch 1/15\n",
      "90000/90000 [==============================] - 11s 127us/step - loss: 2.7668 - acc: 0.1260 - val_loss: 2.4914 - val_acc: 0.1940\n",
      "Epoch 2/15\n",
      "90000/90000 [==============================] - 8s 92us/step - loss: 2.4120 - acc: 0.2202 - val_loss: 2.3410 - val_acc: 0.2462\n",
      "Epoch 3/15\n",
      "90000/90000 [==============================] - 8s 92us/step - loss: 2.3034 - acc: 0.2623 - val_loss: 2.2934 - val_acc: 0.2554\n",
      "Epoch 4/15\n",
      "90000/90000 [==============================] - 8s 92us/step - loss: 2.2485 - acc: 0.2819 - val_loss: 2.2445 - val_acc: 0.2904\n",
      "Epoch 5/15\n",
      "90000/90000 [==============================] - 8s 92us/step - loss: 2.2210 - acc: 0.2936 - val_loss: 2.2015 - val_acc: 0.3088\n",
      "Epoch 6/15\n",
      "90000/90000 [==============================] - 8s 93us/step - loss: 2.2003 - acc: 0.3022 - val_loss: 2.1746 - val_acc: 0.3176\n",
      "Epoch 7/15\n",
      "90000/90000 [==============================] - 8s 93us/step - loss: 2.1811 - acc: 0.3110 - val_loss: 2.1630 - val_acc: 0.3240\n",
      "Epoch 8/15\n",
      "90000/90000 [==============================] - 8s 93us/step - loss: 2.1699 - acc: 0.3143 - val_loss: 2.1519 - val_acc: 0.3312\n",
      "Epoch 9/15\n",
      "90000/90000 [==============================] - 8s 93us/step - loss: 2.1620 - acc: 0.3198 - val_loss: 2.1732 - val_acc: 0.3188\n",
      "Epoch 10/15\n",
      "90000/90000 [==============================] - 8s 93us/step - loss: 2.1555 - acc: 0.3235 - val_loss: 2.1576 - val_acc: 0.3278\n",
      "Epoch 11/15\n",
      "90000/90000 [==============================] - 8s 94us/step - loss: 2.1479 - acc: 0.3251 - val_loss: 2.1542 - val_acc: 0.3294\n",
      "Epoch 12/15\n",
      "90000/90000 [==============================] - 9s 98us/step - loss: 2.1420 - acc: 0.3288 - val_loss: 2.1526 - val_acc: 0.3324\n",
      "Epoch 13/15\n",
      "90000/90000 [==============================] - 9s 96us/step - loss: 2.1348 - acc: 0.3334 - val_loss: 2.1264 - val_acc: 0.3392\n",
      "Epoch 14/15\n",
      "90000/90000 [==============================] - 8s 93us/step - loss: 2.1281 - acc: 0.3374 - val_loss: 2.1437 - val_acc: 0.3350\n",
      "Epoch 15/15\n",
      "90000/90000 [==============================] - 9s 96us/step - loss: 2.1199 - acc: 0.3403 - val_loss: 2.1269 - val_acc: 0.3368\n"
     ]
    },
    {
     "data": {
      "image/png": "[encoded data removed]",
      "text/plain": [
       "<matplotlib.figure.Figure at 0x7fe47241e5c0>"
      ]
     },
     "metadata": {
      "needs_background": "light"
     },
     "output_type": "display_data"
    },
    {
     "name": "stdout",
     "output_type": "stream",
     "text": [
      "Final Test accuracy is: 33.52%\n",
      "Final training accuracy: 34.03%\n",
      "Final validation accuracy: 33.68%\n",
      "Num Neurons: 8 \n",
      "Current Max Neurons= 8\n",
      "Current Max Accuracy=33.52\n",
      "Train on 90000 samples, validate on 5000 samples\n",
      "Epoch 1/15\n",
      "90000/90000 [==============================] - 11s 128us/step - loss: 2.7144 - acc: 0.1352 - val_loss: 2.4231 - val_acc: 0.2074\n",
      "Epoch 2/15\n",
      "90000/90000 [==============================] - 8s 93us/step - loss: 2.3557 - acc: 0.2319 - val_loss: 2.3074 - val_acc: 0.2516\n",
      "Epoch 3/15\n",
      "90000/90000 [==============================] - 8s 89us/step - loss: 2.2871 - acc: 0.2579 - val_loss: 2.3033 - val_acc: 0.2646\n",
      "Epoch 4/15\n",
      "90000/90000 [==============================] - 8s 92us/step - loss: 2.2537 - acc: 0.2739 - val_loss: 2.2608 - val_acc: 0.2776\n",
      "Epoch 5/15\n",
      "90000/90000 [==============================] - 9s 101us/step - loss: 2.2271 - acc: 0.2862 - val_loss: 2.2279 - val_acc: 0.2946\n",
      "Epoch 6/15\n",
      "90000/90000 [==============================] - 9s 97us/step - loss: 2.2074 - acc: 0.2948 - val_loss: 2.2048 - val_acc: 0.2954\n",
      "Epoch 7/15\n",
      "90000/90000 [==============================] - 8s 88us/step - loss: 2.1982 - acc: 0.2969 - val_loss: 2.1918 - val_acc: 0.2982\n",
      "Epoch 8/15\n",
      "90000/90000 [==============================] - 8s 88us/step - loss: 2.1865 - acc: 0.3018 - val_loss: 2.2026 - val_acc: 0.2932\n",
      "Epoch 9/15\n",
      "90000/90000 [==============================] - 8s 88us/step - loss: 2.1804 - acc: 0.3041 - val_loss: 2.1942 - val_acc: 0.2980\n",
      "Epoch 10/15\n",
      "90000/90000 [==============================] - 8s 89us/step - loss: 2.1747 - acc: 0.3052 - val_loss: 2.1852 - val_acc: 0.2968\n",
      "Epoch 11/15\n",
      "90000/90000 [==============================] - 8s 90us/step - loss: 2.1666 - acc: 0.3086 - val_loss: 2.1944 - val_acc: 0.2970\n",
      "Epoch 12/15\n",
      "90000/90000 [==============================] - 8s 89us/step - loss: 2.1616 - acc: 0.3095 - val_loss: 2.1647 - val_acc: 0.3076\n",
      "Epoch 13/15\n",
      "90000/90000 [==============================] - 8s 87us/step - loss: 2.1581 - acc: 0.3106 - val_loss: 2.1680 - val_acc: 0.2990\n",
      "Epoch 14/15\n",
      "90000/90000 [==============================] - 8s 87us/step - loss: 2.1557 - acc: 0.3133 - val_loss: 2.1946 - val_acc: 0.2964\n",
      "Epoch 15/15\n",
      "90000/90000 [==============================] - 8s 88us/step - loss: 2.1528 - acc: 0.3157 - val_loss: 2.1572 - val_acc: 0.3104\n"
     ]
    },
    {
     "data": {
      "image/png": "[encoded data removed]",
      "text/plain": [
       "<matplotlib.figure.Figure at 0x7fe471ebe470>"
      ]
     },
     "metadata": {
      "needs_background": "light"
     },
     "output_type": "display_data"
    },
    {
     "name": "stdout",
     "output_type": "stream",
     "text": [
      "Final Test accuracy is: 31.32%\n",
      "Final training accuracy: 31.572222222222223%\n",
      "Final validation accuracy: 31.04%\n",
      "Num Neurons: 9 \n",
      "Current Max Neurons= 8\n",
      "Current Max Accuracy=33.52\n",
      "max neurons: 8\n",
      " max accuracy: 33.52\n"
     ]
    }
   ],
   "source": [
    "test_max_neurons(num_neurons=num_neurons, start_n=5)"
   ]
  }
 ],
 "metadata": {
  "kernelspec": {
   "display_name": "Python 3",
   "language": "python",
   "name": "python3"
  },
  "language_info": {
   "codemirror_mode": {
    "name": "ipython",
    "version": 3
   },
   "file_extension": ".py",
   "mimetype": "text/x-python",
   "name": "python",
   "nbconvert_exporter": "python",
   "pygments_lexer": "ipython3",
   "version": "3.6.7"
  }
 },
 "nbformat": 4,
 "nbformat_minor": 2
}
